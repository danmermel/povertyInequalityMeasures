{
 "cells": [
  {
   "cell_type": "markdown",
   "id": "9d200fce-7dbc-46f6-abd4-378865a3c453",
   "metadata": {},
   "source": [
    "# My World Bank jottings"
   ]
  },
  {
   "cell_type": "code",
   "execution_count": 7,
   "id": "6e456d28-36d5-475a-8874-62c4b6886b0f",
   "metadata": {},
   "outputs": [],
   "source": [
    "import pandas as pd\n",
    "import numpy as np\n",
    "import math"
   ]
  },
  {
   "cell_type": "markdown",
   "id": "ee9699b3-87aa-4846-a766-3e66a8b9c004",
   "metadata": {},
   "source": [
    "## Headcount index\n",
    "measures the proportion of the population that is counted as poor\n",
    "\n",
    "$P_{0} = N_{p}$ / N\n",
    "\n",
    "where $N_{p}$ is the number of poor people and N is the total population.\n",
    "\n",
    "Take expenditure for each individual, make an assumption of the poverty line, then count the total number of people who fall below it and divide it by the total number of people in the sample.\n",
    "\n",
    "(see page 68)"
   ]
  },
  {
   "cell_type": "code",
   "execution_count": 8,
   "id": "71dfff84-58c9-4e34-a1a7-0d9199ee088b",
   "metadata": {},
   "outputs": [],
   "source": [
    "def get_headcount_index(pl,data):\n",
    "    #pl is the poverty line\n",
    "    #data is a dataframe containing survey data\n",
    "    total_sample = data.shape[0] # number of rows\n",
    "    the_poor = data[data['total_expenditure'] < pl].shape[0]\n",
    "    #print(\"the poor are \", the_poor)\n",
    "    poverty_index = the_poor / total_sample\n",
    "    return poverty_index\n",
    "    ##TODO - could add some concept of weight to the formula to account for the total population based on the sample\n",
    "    ## also the data is household, but is the poverty index about individuals?\n",
    "    \n",
    "    "
   ]
  },
  {
   "cell_type": "code",
   "execution_count": 9,
   "id": "4e3148e0-e007-47b9-9ae0-a299d5bc5902",
   "metadata": {},
   "outputs": [],
   "source": [
    "url = \"https://virtual-worlds.scot/ou/uk-lcf-subset-2005-6.csv\"\n",
    "storage_options = {'User-Agent': 'Mozilla/9.0'}\n",
    "\n",
    "lcf = pd.read_csv(url,storage_options=storage_options)\n",
    "#print(lcf.info) \n",
    "lcf = lcf.iloc[:10] #take a slice of 10 rows for easier debugging\n",
    "lcf_sorted = lcf.sort_values(by='total_expenditure').reset_index(drop=True)\n",
    "#print(lcf_sorted)\n",
    "lcf_test = pd.DataFrame({'total_expenditure': [ 110,120,150,160]})"
   ]
  },
  {
   "cell_type": "code",
   "execution_count": 10,
   "id": "6748971f-27d9-4abe-a674-f09efa6c7d5c",
   "metadata": {},
   "outputs": [
    {
     "name": "stdout",
     "output_type": "stream",
     "text": [
      "0.1\n"
     ]
    }
   ],
   "source": [
    "\n",
    "pi = get_headcount_index(125,lcf_sorted)\n",
    "print(pi)"
   ]
  },
  {
   "cell_type": "markdown",
   "id": "1659dd4f-d13d-4c5d-b73f-04424d67352b",
   "metadata": {},
   "source": [
    "## Poverty Gap Index\n",
    "\n",
    "Adds up the extent to which individuals on average fall below the poverty line, and expresses it as a percentage of the poverty line. More specifically, define the poverty gap (Gi) as the poverty line (z) less actual income (yi) for poor individuals; the gap is considered to\n",
    "be zero for everyone else. Using the index function, we have\n",
    "\n",
    "Gi = (z – yi) × I(yi < z)\n",
    "\n",
    "So basically take the diff between the expenditure and the poverty line (the gap) and then divide it by the poverty line to get an index (and do it over the whole population to get a national gap)\n",
    "\n",
    "(See page 70)"
   ]
  },
  {
   "cell_type": "code",
   "execution_count": 6,
   "id": "9108b03e-2e8e-4f02-afe5-98f43c4a87a6",
   "metadata": {},
   "outputs": [],
   "source": [
    "def get_poverty_gap_index(pl,data):\n",
    "    #pl is the poverty line\n",
    "    #data is a dataframe containing survey data\n",
    "    total_sample = data.shape[0] # number of rows\n",
    "    for i in range(0,total_sample):\n",
    "        data.loc[i,\"poverty_gap\"] = max(0, (pl-data.loc[i,\"total_expenditure\"])/pl)\n",
    "    poverty_gap_index = data[\"poverty_gap\"].sum() / total_sample\n",
    "    #print(data)\n",
    "    return round(poverty_gap_index,5)"
   ]
  },
  {
   "cell_type": "code",
   "execution_count": 7,
   "id": "df63e458-66d1-4080-8094-d2a9471039b6",
   "metadata": {},
   "outputs": [
    {
     "name": "stdout",
     "output_type": "stream",
     "text": [
      "0.08\n"
     ]
    }
   ],
   "source": [
    "pgi = get_poverty_gap_index(125, lcf_test)\n",
    "print(pgi)"
   ]
  },
  {
   "cell_type": "markdown",
   "id": "a4b06dde-112f-4bc0-94d3-48847eb6818b",
   "metadata": {},
   "source": [
    "## Poverty Severity Index\n",
    "\n",
    "This one squares the poverty gap before adding up and averaging over the population.\n",
    "So it makes the poverty of the more poor count for more\n",
    "\n",
    "(see page 71)"
   ]
  },
  {
   "cell_type": "code",
   "execution_count": 8,
   "id": "b9e23bb5-9f4c-4370-adc3-2bd7de86e89b",
   "metadata": {},
   "outputs": [],
   "source": [
    "def get_poverty_severity_index(pl,data):\n",
    "    #pl is the poverty line\n",
    "    #data is a dataframe containing survey data\n",
    "    total_sample = data.shape[0] # number of rows\n",
    "    for i in range(0,total_sample):\n",
    "        data.loc[i,\"poverty_gap_squared\"] = (max(0, (pl-data.loc[i,\"total_expenditure\"])/pl))**2\n",
    "    poverty_severity_index = data[\"poverty_gap_squared\"].sum() / total_sample \n",
    "    #print(data)\n",
    "    return round(poverty_severity_index,5)"
   ]
  },
  {
   "cell_type": "code",
   "execution_count": 9,
   "id": "348b4367-9d85-44b2-b3b0-5fe1a8dfab38",
   "metadata": {},
   "outputs": [
    {
     "name": "stdout",
     "output_type": "stream",
     "text": [
      "0.02\n"
     ]
    }
   ],
   "source": [
    "psi=get_poverty_severity_index(125, lcf_test)\n",
    "print(psi)"
   ]
  },
  {
   "cell_type": "code",
   "execution_count": 10,
   "id": "68b4b4b8-2175-4091-b9c0-6766a7c8a025",
   "metadata": {},
   "outputs": [
    {
     "name": "stdout",
     "output_type": "stream",
     "text": [
      "   total_expenditure  poverty_gap  poverty_gap_squared\n",
      "0                 90         0.28               0.0784\n",
      "1                120         0.04               0.0016\n",
      "2                150         0.00               0.0000\n",
      "3                160         0.00               0.0000\n"
     ]
    }
   ],
   "source": [
    "print(lcf_test)"
   ]
  },
  {
   "cell_type": "markdown",
   "id": "7167e659-efa4-4f5d-855e-304859cb88f7",
   "metadata": {},
   "source": [
    "(P 71)\n",
    "<quote>At the other extreme, one can consider the maximum cost of eliminating poverty, assuming that the policy maker knows nothing about who is poor and who is not.\n",
    "From the form of the index, it can be seen that the ratio of the minimum cost of eliminating poverty with perfect targeting (that is, Gi) to the maximum cost with no targeting (that is, z, which would involve providing everyone with enough to ensure they are not below the poverty line) is simply the poverty gap index. Thus, this measure is an indicator of the potential savings to the poverty alleviation budget from targeting: the smaller the poverty gap index, the greater the potential economies for a poverty alleviation budget from identifying the characteristics of the poor—using survey or other information—so as to target benefits and programs.</quote>\n",
    "\n",
    "So if the UK has a povertty line and we can use the HH survey data to calculate a Gi for every household, then we could calculate how much it would cost gross to eliminate poverty?\n",
    "\n"
   ]
  },
  {
   "cell_type": "markdown",
   "id": "ccf42bcc-ea7c-4492-ae95-d7766a6f2d39",
   "metadata": {},
   "source": [
    "## Povert Severity Index (generic)\n",
    "\n",
    "When parameter α = 0, P0 is simply the headcount index.\n",
    "When α = 1, the index is the poverty gapindex P1, \n",
    "and when α is set equal to 2, P2 is the poverty severity index.\n",
    "\n",
    "(see page 72)"
   ]
  },
  {
   "cell_type": "code",
   "execution_count": 11,
   "id": "cb245e6f-4596-48e1-a302-7b5826fdcb21",
   "metadata": {},
   "outputs": [],
   "source": [
    "def get_poverty_severity_index_generic(pl,data, alpha):\n",
    "    #pl is the poverty line\n",
    "    #data is a dataframe containing survey data\n",
    "    # alpha is the measure of the sensitivity of the index to poverty.Alpha has to be >=o\n",
    "    if alpha < 0:\n",
    "        return \"Error. Alpha must be >=0\"\n",
    "    total_sample = data.shape[0] # number of rows\n",
    "    for i in range(0,total_sample):\n",
    "        data.loc[i,\"poverty_gap_alpha\"] = (max(0, (pl-data.loc[i,\"total_expenditure\"])/pl))**alpha\n",
    "    poverty_severity_index = data[\"poverty_gap_alpha\"].sum() / total_sample \n",
    "    #print(data)\n",
    "    return round(poverty_severity_index,5)"
   ]
  },
  {
   "cell_type": "code",
   "execution_count": 12,
   "id": "81e23a65-ff8e-4503-95bf-249318900bc9",
   "metadata": {},
   "outputs": [
    {
     "name": "stdout",
     "output_type": "stream",
     "text": [
      "0.08\n"
     ]
    }
   ],
   "source": [
    "psig= get_poverty_severity_index_generic(125,lcf_test,1)\n",
    "print(psig)"
   ]
  },
  {
   "cell_type": "markdown",
   "id": "98c5a52a-6a04-4fc1-ad52-29e80a27f192",
   "metadata": {},
   "source": [
    "## Sen Index\n",
    "\n",
    "The Sen index can also be written as the average of the headcount and poverty gap measures, weighted by the Gini coefficient\n",
    "of the poor, giving:\n",
    "\n",
    "$P_{s} = P_{0}G^{p} + P_{1}(1 – G^{p})$\n",
    "\n",
    "(see page 74)"
   ]
  },
  {
   "cell_type": "code",
   "execution_count": 17,
   "id": "a101f020-2957-41de-9d8e-8fe158a394f9",
   "metadata": {},
   "outputs": [],
   "source": [
    "def get_sen_index(pl,data):\n",
    "    pov_headcount = get_headcount_index(pl,data)\n",
    "    pov_gap = get_poverty_gap_index(pl,data)\n",
    "    #for now let's just make Ginni a constant until i figure out how to calculate it\n",
    "    gini = 0.7\n",
    "    sen_index = pov_headcount*gini + pov_gap*(1-gini)\n",
    "    return sen_index"
   ]
  },
  {
   "cell_type": "code",
   "execution_count": 18,
   "id": "9b3349fd-a066-42e8-9d45-f75022b099b6",
   "metadata": {},
   "outputs": [
    {
     "name": "stdout",
     "output_type": "stream",
     "text": [
      "0.374\n"
     ]
    }
   ],
   "source": [
    "sen = get_sen_index(125,lcf_test)\n",
    "print(sen)"
   ]
  },
  {
   "cell_type": "markdown",
   "id": "26ece1cf-c642-4fd9-8a6c-30e717afddd8",
   "metadata": {},
   "source": [
    "### TODO - the Sen Shorrocks Thon index"
   ]
  },
  {
   "cell_type": "markdown",
   "id": "98a87efc-45ce-4be8-bca5-d12467ee5e10",
   "metadata": {},
   "source": [
    "## Watts Index\n",
    "\n",
    "![title](./img/watts.png)\n",
    "\n",
    "where the N individuals in the population are indexed in ascending order of income (or expenditure), and the sum is taken over the q individuals whose income (or expenditure) yi falls below the poverty line z.\n",
    "\n",
    "the Watts index is increasingly used by researchers because it satisfies all the theoretical properties that one would want in a poverty index. Ravallion and Chen (2001) argue that three axioms are essential to any good measure of poverty. \n",
    "- Under the focus axiom, the measure should not vary if the income of the nonpoor varies;\n",
    "- under the monotonicity axiom, any income gain for the poor should reduce poverty;\n",
    "- and under the transfer axiom, inequality-reducing transfers among the poor should reduce poverty.\n",
    "\n",
    "The Watts index satisfies these three axioms\n"
   ]
  },
  {
   "cell_type": "code",
   "execution_count": 2,
   "id": "e3cffb43-f9ac-4a57-80e0-608176aced51",
   "metadata": {},
   "outputs": [],
   "source": [
    "def get_watts_index (pl, data):\n",
    "    total_sample = data.shape[0] # number of rows\n",
    "    watts_total=0 # to contain our adding of the totals below\n",
    "    for i in range(0,total_sample):\n",
    "        if data.loc[i, \"total_expenditure\"] < pl:\n",
    "            ## add it to the total according to the formula above, because the sum is oer individualss whose income/expenditure falls below the pl\n",
    "            watts_total += math.log(pl/data.loc[i,\"total_expenditure\"]) \n",
    "    #finally divide by the total sample\n",
    "    watts_total = watts_total / total_sample\n",
    "    return watts_total\n",
    "        "
   ]
  },
  {
   "cell_type": "code",
   "execution_count": 33,
   "id": "6f28c02c-d257-4fce-80ae-6ac24301b375",
   "metadata": {},
   "outputs": [
    {
     "name": "stdout",
     "output_type": "stream",
     "text": [
      "0.04216384150753505\n"
     ]
    }
   ],
   "source": [
    "wi = get_watts_index(125,lcf_test)\n",
    "print(wi)"
   ]
  },
  {
   "cell_type": "markdown",
   "id": "9ba2d798-e8e7-48ea-9d6a-eef571a9e22c",
   "metadata": {},
   "source": [
    "## Time to exit poverty\n",
    "\n",
    "For the jth person below the poverty line, the expected time to exit poverty (that is, to reach the poverty line), if consumption per capita grows at positive rate g per year, is\n",
    "\n",
    "![title](./img/timeexit.png)\n",
    "\n",
    "Thus, the time taken to exit is the same as the Watts index divided by the expected growth rate of income (or expenditure) of the poor."
   ]
  },
  {
   "cell_type": "code",
   "execution_count": 5,
   "id": "a42b969b-f1c9-4ed3-b2d2-89eb2bcb0aba",
   "metadata": {},
   "outputs": [],
   "source": [
    "def get_time_to_exit(pl,data, growth):\n",
    "    total_sample = data.shape[0] # number of rows\n",
    "    for i in range(0,total_sample):\n",
    "        if data.loc[i, \"total_expenditure\"] < pl:\n",
    "            #add a time to exit to that row\n",
    "            data.loc[i, \"time_to_exit\"] = (math.log(pl/data.loc[i,\"total_expenditure\"]))/growth\n",
    "    return data"
   ]
  },
  {
   "cell_type": "code",
   "execution_count": 13,
   "id": "dfbe1cc5-93db-455d-ba9d-2e0970ade4c7",
   "metadata": {},
   "outputs": [
    {
     "name": "stdout",
     "output_type": "stream",
     "text": [
      "   total_expenditure  time_to_exit\n",
      "0                110      3.195834\n",
      "1                120      1.020550\n",
      "2                150           NaN\n",
      "3                160           NaN\n"
     ]
    }
   ],
   "source": [
    "tte = get_time_to_exit(125, lcf_test, 0.04)\n",
    "print(tte)"
   ]
  },
  {
   "cell_type": "code",
   "execution_count": null,
   "id": "1c480a2b-11a0-4a9b-a29c-b7472a2eb15f",
   "metadata": {},
   "outputs": [],
   "source": []
  }
 ],
 "metadata": {
  "kernelspec": {
   "display_name": "Python 3 (ipykernel)",
   "language": "python",
   "name": "python3"
  },
  "language_info": {
   "codemirror_mode": {
    "name": "ipython",
    "version": 3
   },
   "file_extension": ".py",
   "mimetype": "text/x-python",
   "name": "python",
   "nbconvert_exporter": "python",
   "pygments_lexer": "ipython3",
   "version": "3.10.12"
  }
 },
 "nbformat": 4,
 "nbformat_minor": 5
}
